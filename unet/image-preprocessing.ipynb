{
 "cells": [
  {
   "cell_type": "markdown",
   "source": [
    "Image preprocessing on the Potsdam image and mask dataset by [LUH Download](https://www.isprs.org/education/benchmarks/UrbanSemLab/Default.aspx). <br> Author: Kiunke"
   ],
   "metadata": {
    "collapsed": false
   }
  },
  {
   "cell_type": "code",
   "execution_count": 36,
   "outputs": [],
   "source": [
    "# Global Imports\n",
    "import os\n",
    "import zipfile\n",
    "import shutil\n",
    "from PIL import Image\n",
    "from tqdm.notebook import tqdm\n",
    "\n",
    "\n",
    "\n"
   ],
   "metadata": {
    "collapsed": false,
    "ExecuteTime": {
     "end_time": "2023-11-27T15:16:04.046714517Z",
     "start_time": "2023-11-27T15:16:03.985925778Z"
    }
   }
  },
  {
   "cell_type": "code",
   "execution_count": 33,
   "outputs": [],
   "source": [
    "# Extract Potsdam dataset and only keep Labels and RGB Images\n",
    "with zipfile.ZipFile('Potsdam.zip', 'r') as zip_ref:\n",
    "    zip_ref.extractall('./')\n",
    "    \n",
    "os.remove('Potsdam/1_DSM.rar')\n",
    "os.remove('Potsdam/1_DSM_normalisation.zip')\n",
    "os.remove('Potsdam/3_Ortho_IRRG.zip')\n",
    "os.remove('Potsdam/4_Ortho_RGBIR.zip')\n",
    "os.remove('Potsdam/5_Labels_all_noBoundary.zip')\n",
    "os.remove('Potsdam/5_Labels_for_participants.zip')\n",
    "os.remove('Potsdam/5_Labels_for_participants_no_Boundary.zip')\n",
    "os.remove('Potsdam/assess_classification_reference_implementation.tgz')\n",
    "\n",
    "with zipfile.ZipFile('Potsdam/2_Ortho_RGB.zip', 'r') as zip_ref:\n",
    "    zip_ref.extractall('Potsdam/')\n",
    "with zipfile.ZipFile('Potsdam/5_Labels_all.zip', 'r') as zip_ref:\n",
    "    zip_ref.extractall('Potsdam/5_Labels_all')"
   ],
   "metadata": {
    "collapsed": false,
    "ExecuteTime": {
     "end_time": "2023-11-27T15:08:22.440988548Z",
     "start_time": "2023-11-27T15:06:53.295317653Z"
    }
   }
  },
  {
   "cell_type": "code",
   "execution_count": 34,
   "outputs": [
    {
     "name": "stdout",
     "output_type": "stream",
     "text": [
      "Converted and saved image to:Potsdam/5_Labels_all/top_potsdam_7_13_label.tif\n",
      "Converted and saved image to:Potsdam/5_Labels_all/top_potsdam_6_13_label.tif\n",
      "Converted and saved image to:Potsdam/5_Labels_all/top_potsdam_6_7_label.tif\n",
      "Converted and saved image to:Potsdam/5_Labels_all/top_potsdam_5_14_label.tif\n",
      "Converted and saved image to:Potsdam/5_Labels_all/top_potsdam_7_9_label.tif\n",
      "Converted and saved image to:Potsdam/5_Labels_all/top_potsdam_5_11_label.tif\n",
      "Converted and saved image to:Potsdam/5_Labels_all/top_potsdam_4_13_label.tif\n",
      "Converted and saved image to:Potsdam/5_Labels_all/top_potsdam_6_11_label.tif\n",
      "Converted and saved image to:Potsdam/5_Labels_all/top_potsdam_2_13_label.tif\n",
      "Converted and saved image to:Potsdam/5_Labels_all/top_potsdam_4_12_label.tif\n",
      "Converted and saved image to:Potsdam/5_Labels_all/top_potsdam_7_10_label.tif\n",
      "Converted and saved image to:Potsdam/5_Labels_all/top_potsdam_6_10_label.tif\n",
      "Converted and saved image to:Potsdam/5_Labels_all/top_potsdam_3_11_label.tif\n",
      "Converted and saved image to:Potsdam/5_Labels_all/top_potsdam_6_12_label.tif\n",
      "Converted and saved image to:Potsdam/5_Labels_all/top_potsdam_4_10_label.tif\n",
      "Converted and saved image to:Potsdam/5_Labels_all/top_potsdam_3_14_label.tif\n",
      "Converted and saved image to:Potsdam/5_Labels_all/top_potsdam_4_15_label.tif\n",
      "Converted and saved image to:Potsdam/5_Labels_all/top_potsdam_2_10_label.tif\n",
      "Converted and saved image to:Potsdam/5_Labels_all/top_potsdam_4_11_label.tif\n",
      "Converted and saved image to:Potsdam/5_Labels_all/top_potsdam_7_11_label.tif\n",
      "Converted and saved image to:Potsdam/5_Labels_all/top_potsdam_5_10_label.tif\n",
      "Converted and saved image to:Potsdam/5_Labels_all/top_potsdam_7_8_label.tif\n",
      "Converted and saved image to:Potsdam/5_Labels_all/top_potsdam_7_12_label.tif\n",
      "Converted and saved image to:Potsdam/5_Labels_all/top_potsdam_3_10_label.tif\n",
      "Converted and saved image to:Potsdam/5_Labels_all/top_potsdam_2_14_label.tif\n",
      "Converted and saved image to:Potsdam/5_Labels_all/top_potsdam_6_14_label.tif\n",
      "Converted and saved image to:Potsdam/5_Labels_all/top_potsdam_5_15_label.tif\n",
      "Converted and saved image to:Potsdam/5_Labels_all/top_potsdam_6_8_label.tif\n",
      "Converted and saved image to:Potsdam/5_Labels_all/top_potsdam_3_13_label.tif\n",
      "Converted and saved image to:Potsdam/5_Labels_all/top_potsdam_5_13_label.tif\n",
      "Converted and saved image to:Potsdam/5_Labels_all/top_potsdam_3_12_label.tif\n",
      "Converted and saved image to:Potsdam/5_Labels_all/top_potsdam_6_9_label.tif\n",
      "Converted and saved image to:Potsdam/5_Labels_all/top_potsdam_2_11_label.tif\n",
      "Converted and saved image to:Potsdam/5_Labels_all/top_potsdam_2_12_label.tif\n",
      "Converted and saved image to:Potsdam/5_Labels_all/top_potsdam_6_15_label.tif\n",
      "Converted and saved image to:Potsdam/5_Labels_all/top_potsdam_4_14_label.tif\n",
      "Converted and saved image to:Potsdam/5_Labels_all/top_potsdam_5_12_label.tif\n",
      "Converted and saved image to:Potsdam/5_Labels_all/top_potsdam_7_7_label.tif\n"
     ]
    }
   ],
   "source": [
    "def mask_to_binary(path):\n",
    "    files = [f for f in os.listdir(path) if f.endswith('.tif')]\n",
    "    \n",
    "    for file in tqdm(files, desc='Processing images'):\n",
    "        file_path = os.path.join(path,file)\n",
    "        img = Image.open(file_path)\n",
    "        pixels = img.load()\n",
    "        for i in range(img.size[0]):  \n",
    "            for j in range(img.size[1]):  \n",
    "                if pixels[i, j] == (0, 255, 0):  \n",
    "                    pixels[i, j] = (255, 255, 255) \n",
    "                else:\n",
    "                    pixels[i, j] = (0, 0, 0) \n",
    "        img.save(file_path, format='TIFF')\n",
    "        print(f'Converted and saved image to: {file_path}')\n",
    "        \n",
    "        \n",
    "mask_to_binary('Potsdam/5_Labels_all')"
   ],
   "metadata": {
    "collapsed": false,
    "ExecuteTime": {
     "end_time": "2023-11-27T15:14:10.812388789Z",
     "start_time": "2023-11-27T15:08:48.187373497Z"
    }
   }
  },
  {
   "cell_type": "code",
   "execution_count": 35,
   "outputs": [],
   "source": [
    "def cut_tif_into_patches_with_hard_boundary(i, d, patch_size):\n",
    "    if not os.path.exists(d):\n",
    "        os.makedirs(d)\n",
    "    \n",
    "    files = [f for f in os.listdir(i) if f.endswith('.tif')]\n",
    "    for file in tqdm(files, desc='Processing images'):\n",
    "        file_path = os.path.join(i, file)\n",
    "        img = Image.open(file_path)\n",
    "        \n",
    "        width, height = img.size\n",
    "        x_patches = width // patch_size\n",
    "        y_patches = height // patch_size\n",
    "        \n",
    "        for x in range(x_patches):\n",
    "            for y in range(y_patches):\n",
    "                left = x* patch_size\n",
    "                upper = y * patch_size\n",
    "                right = (x+1) * patch_size\n",
    "                lower = (y+1) * patch_size\n",
    "                \n",
    "                patch = img.crop((left, upper, right, lower))\n",
    "                base, suffix = os.path.splitext(file)\n",
    "                parts = base.rsplit('_', 1)\n",
    "                patch_filename = f'{parts[0]}_{x}_{y}_{parts[1]}{suffix}'\n",
    "                patch.save(os.path.join(d, patch_filename))\n",
    "\n",
    "def cut_tif_into_patches_with_overlap(i, d, patch_size, overlap=128):\n",
    "    if not os.path.exists(d):\n",
    "        os.makedirs(d)\n",
    "    \n",
    "    files = [f for f in os.listdir(i) if f.endswith('.tif')]\n",
    "    for file in tqdm(files, desc='Processing images'):\n",
    "        file_path = os.path.join(i, file)\n",
    "        img = Image.open(file_path)\n",
    "        \n",
    "        width, height = img.size\n",
    "        step = patch_size - overlap  # Step size is reduced by the overlap\n",
    "        x_patches = (width - overlap) // step\n",
    "        y_patches = (height - overlap) // step\n",
    "        \n",
    "        for x in range(x_patches):\n",
    "            for y in range(y_patches):\n",
    "                # Calculate the position of each patch considering the overlap\n",
    "                left = x * step\n",
    "                upper = y * step\n",
    "                right = left + patch_size\n",
    "                lower = upper + patch_size\n",
    "\n",
    "                # Crop and save the patch\n",
    "                patch = img.crop((left, upper, right, lower))\n",
    "                base, suffix = os.path.splitext(file)\n",
    "                parts = base.rsplit('_', 1)\n",
    "                patch_filename = f'{parts[0]}_{x}_{y}_{parts[1]}{suffix}'\n",
    "                patch.save(os.path.join(d, patch_filename))\n",
    "                \n",
    "                \n",
    "cut_tif_into_patches_with_hard_boundary('Potsdam/5_Labels_all', 'Potsdam/5_Labels_all_Patched', 256)\n",
    "cut_tif_into_patches_with_hard_boundary('Potsdam/2_Ortho_RGB', 'Potsdam/2_Ortho_RGB_Patched', 256)\n",
    "  \n",
    "    "
   ],
   "metadata": {
    "collapsed": false,
    "ExecuteTime": {
     "end_time": "2023-11-27T15:15:23.555213735Z",
     "start_time": "2023-11-27T15:14:47.322692042Z"
    }
   }
  },
  {
   "cell_type": "code",
   "execution_count": 37,
   "outputs": [
    {
     "name": "stdout",
     "output_type": "stream",
     "text": [
      "20102\n",
      "20102\n"
     ]
    },
    {
     "data": {
      "text/plain": "Processing images:   0%|          | 0/20102 [00:00<?, ?it/s]",
      "application/vnd.jupyter.widget-view+json": {
       "version_major": 2,
       "version_minor": 0,
       "model_id": "1e66fdaf50f049a495d09aec75e73619"
      }
     },
     "metadata": {},
     "output_type": "display_data"
    }
   ],
   "source": [
    "# Group Labels and RGB Images together\n",
    "images_folder = 'Potsdam/2_Ortho_RGB_Patched'\n",
    "labels_folder = 'Potsdam/5_Labels_all_Patched'\n",
    "output_folder = 'Potsdam/Train'\n",
    "\n",
    "if not os.path.exists(output_folder):\n",
    "    os.makedirs(output_folder)\n",
    "    \n",
    "images = [f for f in os.listdir(images_folder) if f.endswith('RGB.tif')]\n",
    "labels = [f for f in os.listdir(labels_folder) if f.endswith('label.tif')]\n",
    "images.sort()\n",
    "labels.sort()\n",
    "print(images.__len__())\n",
    "print(labels.__len__())\n",
    "\n",
    "for image in tqdm(images, desc='Processing images'):\n",
    "    folder_name = image.replace(\"op_potsdam_\", \"\").replace(\"_RGB.tif\",\"\")\n",
    "    new_folder_path = os.path.join(os.path.join(output_folder, folder_name))\n",
    "    os.makedirs(new_folder_path)\n",
    "    label_file = image.replace('_RGB.tif', \"_label.tif\")\n",
    "    shutil.copy(os.path.join(images_folder, image), os.path.join(new_folder_path, image))\n",
    "    shutil.copy(os.path.join(labels_folder, label_file), os.path.join(new_folder_path, label_file))\n",
    "    "
   ],
   "metadata": {
    "collapsed": false,
    "ExecuteTime": {
     "end_time": "2023-11-27T15:16:20.752463676Z",
     "start_time": "2023-11-27T15:16:08.904322843Z"
    }
   }
  },
  {
   "cell_type": "code",
   "execution_count": null,
   "outputs": [],
   "source": [],
   "metadata": {
    "collapsed": false
   }
  }
 ],
 "metadata": {
  "kernelspec": {
   "display_name": "Python 3",
   "language": "python",
   "name": "python3"
  },
  "language_info": {
   "codemirror_mode": {
    "name": "ipython",
    "version": 3
   },
   "file_extension": ".py",
   "mimetype": "text/x-python",
   "name": "python",
   "nbconvert_exporter": "python",
   "pygments_lexer": "ipython3",
   "version": "3.9.6"
  }
 },
 "nbformat": 4,
 "nbformat_minor": 2
}
