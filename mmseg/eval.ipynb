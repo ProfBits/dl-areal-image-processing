{
 "cells": [
  {
   "cell_type": "code",
   "execution_count": 42,
   "metadata": {},
   "outputs": [],
   "source": [
    "# from imageProcessing import cut_tif_into_patches_with_hard_boundary\n",
    "\n",
    "from mmseg.apis import inference_model, init_model, show_result_pyplot\n",
    "import mmcv\n",
    "import cv2\n",
    "import matplotlib.pyplot as plt\n",
    "import os\n",
    "\n",
    "import os\n",
    "from PIL import Image\n",
    "from tqdm import tqdm\n",
    "\n",
    "import numpy as np\n",
    "\n",
    "import time\n",
    "\n",
    "# from eval_func import eval_func"
   ]
  },
  {
   "cell_type": "code",
   "execution_count": 22,
   "metadata": {},
   "outputs": [],
   "source": [
    "import sys\n",
    "sys.path.append('../mask_evaluation')\n",
    "from main import print_metrics, evaluate_files, evaluate_file"
   ]
  },
  {
   "cell_type": "markdown",
   "metadata": {},
   "source": [
    "# Functions"
   ]
  },
  {
   "cell_type": "code",
   "execution_count": 23,
   "metadata": {},
   "outputs": [],
   "source": [
    "# FUNCTIONS\n",
    "\n",
    "def eval_func(PIMG_PATH, PANN_PATH, PPRED_PATH, model):\n",
    "     \n",
    "     try:\n",
    "        \n",
    "        PIMG_files = os.listdir(PIMG_PATH)\n",
    "        PIMG_files = list(filter(lambda x: x.endswith(\".tif\"), PIMG_files))\n",
    "        PANN_files = os.listdir(PANN_PATH)\n",
    "        PANN_files = list(filter(lambda x: x.endswith(\".png\"), PANN_files))\n",
    "        PPRED_files = os.listdir(f'{PPRED_PATH}')\n",
    "        PPRED_files = list(filter(lambda x: x.endswith(\".tif\"), PPRED_files))\n",
    "\n",
    "        if len(PPRED_files) == 0:\n",
    "            __pred_into_files(PIMG_PATH=PIMG_PATH, PIMG_files=PIMG_files, PANN_PATH=PANN_PATH, PANN_files=PANN_files, PPRED_PATH=PPRED_PATH, model=model)\n",
    "            PPRED_files = os.listdir(f'{PPRED_PATH}')\n",
    "            PPRED_files = list(filter(lambda x: x.endswith(\".tif\"), PPRED_files))\n",
    "\n",
    "     except:\n",
    "          print()\n",
    "\n",
    "def __extract_green(image):\n",
    "    img = image\n",
    "    img[:,:,1] = 255\n",
    "    img[:,:,2] = 255\n",
    "    # print(g[0,0,:])\n",
    "\n",
    "    for i in range(len(img[:,0,0])):\n",
    "        for ii in range(len(img[0,:,0])):\n",
    "            if img[i, ii, 0] != 255:\n",
    "                img[i, ii, :] = [0,0,0]\n",
    "    img = cv2.bitwise_not(img)\n",
    "    return img\n",
    "\n",
    "def __pred_into_files(PIMG_PATH, PIMG_files, PANN_PATH, PANN_files, PPRED_PATH, model):\n",
    "    for idx, f in enumerate(tqdm(PIMG_files, desc='Predict')):\n",
    "        fileIdx = idx\n",
    "        tIMG = cv2.imread(f'{PIMG_PATH}/{PIMG_files[fileIdx]}')\n",
    "        tIMG = cv2.cvtColor(tIMG, cv2.COLOR_BGR2RGB)\n",
    "        tANN = cv2.imread(f'{PANN_PATH}/{PANN_files[fileIdx]}')\n",
    "        loveDa_r18_im_raw = inference_model(model, tIMG)\n",
    "        loveDa_r18_raw_result = show_result_pyplot(model, np.full_like(tIMG, [255,255,255]), loveDa_r18_im_raw, with_labels=False)\n",
    "        # plt.imshow(loveDa_r18_raw_result)\n",
    "\n",
    "        predicted = __extract_green(loveDa_r18_raw_result)\n",
    "        cv2.imwrite(f'{PPRED_PATH}/{f}', predicted)\n",
    "\n",
    "def get_eval(PANN_PATH, PANN_files, PPRED_PATH, PPRED_files):\n",
    "    masks = []\n",
    "    for i in range(len(PPRED_files)-1):\n",
    "            masks.append((f'{PANN_PATH}/{PANN_files[i]}', f'{PPRED_PATH}/{PPRED_files[i]}'))\n",
    "    evaluation = evaluate_files(masks)\n",
    "    return evaluation\n",
    "\n",
    "def get_best(PIMG_files, PANN_PATH, PANN_files, PPRED_PATH, PPRED_files, pshow = False, highestF1 = 1.0):\n",
    "    bestf1 = 0\n",
    "    bestmask = ()\n",
    "    bestev = None\n",
    "    for i in tqdm(range(len(PPRED_files)-1), desc='Process'):\n",
    "        try:\n",
    "            ev = evaluate_file(f'{PANN_PATH}/{PANN_files[i]}', f'{PPRED_PATH}/{PPRED_files[i]}')\n",
    "            if(ev.F1 > bestf1 and ev.F1 < highestF1):\n",
    "                bestf1 = ev.F1\n",
    "                bestmask = (f'{PANN_PATH}/{PANN_files[i]}',f'{PPRED_PATH}/{PIMG_files[i]}')\n",
    "                bestev = ev\n",
    "        except:\n",
    "            print(f'Error in File {PIMG_files[i]}')\n",
    "\n",
    "    print_metrics(bestev)\n",
    "\n",
    "    if(pshow == True):\n",
    "        tPANN = cv2.imread(bestmask[0])\n",
    "        tPPRED = cv2.imread(bestmask[1])\n",
    "\n",
    "        plt.figure(figsize=(20, 10))\n",
    "        plt.subplot(1, 3, 1)\n",
    "        plt.imshow(tPANN)\n",
    "        plt.title(f'Annotated Mask\\n{bestmask[0]}')\n",
    "\n",
    "        plt.subplot(1, 3, 2)\n",
    "        plt.imshow(tPPRED)\n",
    "        plt.title(f'Predicted Mask\\n{bestmask[1]}')\n",
    "\n",
    "def extract_green(image):\n",
    "    img = image\n",
    "    img[:,:,1] = 255\n",
    "    img[:,:,2] = 255\n",
    "    # print(g[0,0,:])\n",
    "\n",
    "    for i in range(len(img[:,0,0])):\n",
    "        for ii in range(len(img[0,:,0])):\n",
    "            if img[i, ii, 0] != 255:\n",
    "                img[i, ii, :] = [0,0,0]\n",
    "    img = cv2.bitwise_not(img)\n",
    "    return img"
   ]
  },
  {
   "cell_type": "markdown",
   "metadata": {},
   "source": [
    "## cut_tif_into_patches_with_hard_boundary()"
   ]
  },
  {
   "cell_type": "code",
   "execution_count": 24,
   "metadata": {},
   "outputs": [],
   "source": [
    "\n",
    "def cut_tif_into_patches_with_hard_boundary(i, d, patch_size, ext):\n",
    "    if not os.path.exists(d):\n",
    "        os.makedirs(d)\n",
    "\n",
    "    files = [f for f in os.listdir(i) if f.endswith(ext)]\n",
    "    for file in tqdm(files, desc='Processing images'):\n",
    "        file_path = os.path.join(i, file)\n",
    "        img = Image.open(file_path)\n",
    "        \n",
    "        width, height = img.size\n",
    "        x_patches = width // patch_size\n",
    "        y_patches = height // patch_size\n",
    "        \n",
    "        for x in range(x_patches):\n",
    "            for y in range(y_patches):\n",
    "                left = x* patch_size\n",
    "                upper = y * patch_size\n",
    "                right = (x+1) * patch_size\n",
    "                lower = (y+1) * patch_size\n",
    "                \n",
    "                patch = img.crop((left, upper, right, lower))\n",
    "                base, suffix = os.path.splitext(file)\n",
    "                parts = base.rsplit('_', 1)\n",
    "                patch_filename = f'{parts[0]}_{x}_{y}_{parts[1]}{suffix}'\n",
    "                patch.save(os.path.join(d, patch_filename))\n",
    "\n",
    "# cut_tif_into_patches_with_hard_boundary(i=IMG_PATH, d=f'{IMG_PATH}/512', patch_size=512, ext='.tif')\n",
    "# cut_tif_into_patches_with_hard_boundary(i=ANN_PATH, d=f'{ANN_PATH}/512', patch_size=512, ext='.png')"
   ]
  },
  {
   "cell_type": "markdown",
   "metadata": {},
   "source": [
    "# Init"
   ]
  },
  {
   "cell_type": "code",
   "execution_count": 25,
   "metadata": {},
   "outputs": [
    {
     "name": "stdout",
     "output_type": "stream",
     "text": [
      "['32688_5332.tif', '32690_5335.tif', '32691_5334.tif', '32692_5335.tif', '32692_5347.tif']\n",
      "['32688_5332.png', '32690_5335.png', '32691_5334.png', '32692_5335.png', '32692_5347.png']\n"
     ]
    }
   ],
   "source": [
    "IMG_PATH = './data/Munich_bin/img_dir'\n",
    "ANN_PATH = './data/Munich_bin/ann_dir'\n",
    "# PREDICTED_PATH = '../data/Munich/2023/prediction/samgeo_batches_v3'\n",
    "\n",
    "IMG_files = os.listdir(IMG_PATH)\n",
    "IMG_files = list(filter(lambda x: x.endswith(\".tif\"), IMG_files))\n",
    "ANN_files = os.listdir(ANN_PATH)\n",
    "ANN_files = list(filter(lambda x: x.endswith(\".png\"), ANN_files))\n",
    "\n",
    "print(IMG_files)\n",
    "print(ANN_files)"
   ]
  },
  {
   "cell_type": "code",
   "execution_count": 26,
   "metadata": {},
   "outputs": [
    {
     "name": "stdout",
     "output_type": "stream",
     "text": [
      "80\n"
     ]
    }
   ],
   "source": [
    "PIMG_PATH = f'{IMG_PATH}/512'\n",
    "PANN_PATH = f'{ANN_PATH}/512'\n",
    "\n",
    "PIMG_files = os.listdir(PIMG_PATH)\n",
    "PIMG_files = list(filter(lambda x: x.endswith(\".tif\"), PIMG_files))\n",
    "PANN_files = os.listdir(PANN_PATH)\n",
    "PANN_files = list(filter(lambda x: x.endswith(\".png\"), PANN_files))\n",
    "print(len(PANN_files))"
   ]
  },
  {
   "cell_type": "markdown",
   "metadata": {},
   "source": [
    "# DeepLab V3"
   ]
  },
  {
   "cell_type": "markdown",
   "metadata": {},
   "source": [
    "## LoveDa R18 Testing"
   ]
  },
  {
   "cell_type": "code",
   "execution_count": 27,
   "metadata": {},
   "outputs": [
    {
     "name": "stdout",
     "output_type": "stream",
     "text": [
      "Loads checkpoint by local backend from path: checkpoints\\DLV3P\\deeplabv3plus_r18-d8_512x512_80k_loveda_20211104_132800-ce0fa0ca.pth\n"
     ]
    }
   ],
   "source": [
    "loveDa_r18_config = r\"mmsegmentation\\configs\\deeplabv3plus\\deeplabv3plus_r18-d8_4xb4-80k_loveda-512x512.py\"\n",
    "loveDa_r18_checkpoint = r\"checkpoints\\DLV3P\\deeplabv3plus_r18-d8_512x512_80k_loveda_20211104_132800-ce0fa0ca.pth\"\n",
    "\n",
    "loveDa_r18_model = init_model(loveDa_r18_config, loveDa_r18_checkpoint,cfg_options=dict(classes=('forest'),palette=[[0, 255, 0]]))"
   ]
  },
  {
   "cell_type": "code",
   "execution_count": 28,
   "metadata": {},
   "outputs": [],
   "source": [
    "# test a single image and show the results\n",
    "fileIdx = 20\n",
    "tIMG = cv2.imread(f'{PIMG_PATH}/{PIMG_files[fileIdx]}')\n",
    "tIMG = cv2.cvtColor(tIMG, cv2.COLOR_BGR2RGB)\n",
    "tANN = cv2.imread(f'{PANN_PATH}/{PANN_files[fileIdx]}')\n",
    "loveDa_r18_im_raw = inference_model(loveDa_r18_model, tIMG)\n",
    "loveDa_r18_raw_result = show_result_pyplot(loveDa_r18_model, np.full_like(tIMG, [255,255,255]), loveDa_r18_im_raw, with_labels=False)\n",
    "# plt.imshow(loveDa_r18_raw_result)\n",
    "\n",
    "predicted = extract_green(loveDa_r18_raw_result)\n",
    "# plt.imshow(predicted)\n",
    "\n",
    "# plt.figure(figsize=(15, 10))\n",
    "# plt.subplot(1, 3, 1)\n",
    "# plt.imshow(tIMG)\n",
    "# plt.title(f'Geospatial Image\\n{PIMG_PATH}/{PIMG_files[fileIdx]}')\n",
    "# plt.subplot(1, 3, 2)\n",
    "# plt.imshow(tANN)\n",
    "# plt.title(f'True Mask\\n{PANN_PATH}/{PANN_files[fileIdx]}')\n",
    "# plt.subplot(1, 3, 3)\n",
    "# plt.imshow(predicted)\n",
    "# plt.title(f'Predicted Mask')\n",
    "\n",
    "# plt.tight_layout()\n",
    "# plt.show()"
   ]
  },
  {
   "cell_type": "code",
   "execution_count": 29,
   "metadata": {},
   "outputs": [
    {
     "name": "stdout",
     "output_type": "stream",
     "text": [
      "59\n"
     ]
    }
   ],
   "source": [
    "DATASET = 'deepLabV3Plus'\n",
    "PPRED_PATH = f'./data/Munich_bin/pred_dir/{DATASET}'\n",
    "\n",
    "if not os.path.exists(PPRED_PATH):\n",
    "        os.makedirs(PPRED_PATH)\n",
    "\n",
    "PPRED_files = os.listdir(f'{PPRED_PATH}')\n",
    "PPRED_files = list(filter(lambda x: x.endswith(\".tif\"), PPRED_files))\n",
    "print(len(PPRED_files))"
   ]
  },
  {
   "cell_type": "code",
   "execution_count": 30,
   "metadata": {},
   "outputs": [],
   "source": [
    "for idx, f in enumerate(PIMG_files):\n",
    "    fileIdx = idx\n",
    "    tIMG = cv2.imread(f'{PIMG_PATH}/{PIMG_files[fileIdx]}')\n",
    "    tIMG = cv2.cvtColor(tIMG, cv2.COLOR_BGR2RGB)\n",
    "    tANN = cv2.imread(f'{PANN_PATH}/{PANN_files[fileIdx]}')\n",
    "    loveDa_r18_im_raw = inference_model(loveDa_r18_model, tIMG)\n",
    "    loveDa_r18_raw_result = show_result_pyplot(loveDa_r18_model, np.full_like(tIMG, [255,255,255]), loveDa_r18_im_raw, with_labels=False)\n",
    "    # plt.imshow(loveDa_r18_raw_result)\n",
    "\n",
    "    predicted = extract_green(loveDa_r18_raw_result)\n",
    "    cv2.imwrite(f'{PPRED_PATH}/{f}', predicted)"
   ]
  },
  {
   "cell_type": "code",
   "execution_count": 31,
   "metadata": {},
   "outputs": [
    {
     "ename": "IndexError",
     "evalue": "list index out of range",
     "output_type": "error",
     "traceback": [
      "\u001b[1;31m---------------------------------------------------------------------------\u001b[0m",
      "\u001b[1;31mIndexError\u001b[0m                                Traceback (most recent call last)",
      "Cell \u001b[1;32mIn[31], line 2\u001b[0m\n\u001b[0;32m      1\u001b[0m idxx \u001b[38;5;241m=\u001b[39m fileIdx\n\u001b[1;32m----> 2\u001b[0m \u001b[38;5;28mprint\u001b[39m(\u001b[38;5;124mf\u001b[39m\u001b[38;5;124m'\u001b[39m\u001b[38;5;124mPANN: \u001b[39m\u001b[38;5;132;01m{\u001b[39;00mPANN_PATH\u001b[38;5;132;01m}\u001b[39;00m\u001b[38;5;124m/\u001b[39m\u001b[38;5;132;01m{\u001b[39;00mPANN_files[idxx]\u001b[38;5;132;01m}\u001b[39;00m\u001b[38;5;124m -- PPRED: \u001b[39m\u001b[38;5;132;01m{\u001b[39;00mPPRED_PATH\u001b[38;5;132;01m}\u001b[39;00m\u001b[38;5;124m/\u001b[39m\u001b[38;5;132;01m{\u001b[39;00m\u001b[43mPPRED_files\u001b[49m\u001b[43m[\u001b[49m\u001b[43midxx\u001b[49m\u001b[43m]\u001b[49m\u001b[38;5;132;01m}\u001b[39;00m\u001b[38;5;124m'\u001b[39m)\n\u001b[0;32m      3\u001b[0m ev \u001b[38;5;241m=\u001b[39m evaluate_file(\u001b[38;5;124mf\u001b[39m\u001b[38;5;124m'\u001b[39m\u001b[38;5;132;01m{\u001b[39;00mPANN_PATH\u001b[38;5;132;01m}\u001b[39;00m\u001b[38;5;124m/\u001b[39m\u001b[38;5;132;01m{\u001b[39;00mPANN_files[idxx]\u001b[38;5;132;01m}\u001b[39;00m\u001b[38;5;124m'\u001b[39m, \u001b[38;5;124mf\u001b[39m\u001b[38;5;124m'\u001b[39m\u001b[38;5;132;01m{\u001b[39;00mPPRED_PATH\u001b[38;5;132;01m}\u001b[39;00m\u001b[38;5;124m/\u001b[39m\u001b[38;5;132;01m{\u001b[39;00mPPRED_files[idxx]\u001b[38;5;132;01m}\u001b[39;00m\u001b[38;5;124m'\u001b[39m)\n\u001b[0;32m      6\u001b[0m tPANN \u001b[38;5;241m=\u001b[39m cv2\u001b[38;5;241m.\u001b[39mimread(\u001b[38;5;124mf\u001b[39m\u001b[38;5;124m'\u001b[39m\u001b[38;5;132;01m{\u001b[39;00mPANN_PATH\u001b[38;5;132;01m}\u001b[39;00m\u001b[38;5;124m/\u001b[39m\u001b[38;5;132;01m{\u001b[39;00mPANN_files[fileIdx]\u001b[38;5;132;01m}\u001b[39;00m\u001b[38;5;124m'\u001b[39m)\n",
      "\u001b[1;31mIndexError\u001b[0m: list index out of range"
     ]
    }
   ],
   "source": [
    "idxx = fileIdx\n",
    "print(f'PANN: {PANN_PATH}/{PANN_files[idxx]} -- PPRED: {PPRED_PATH}/{PPRED_files[idxx]}')\n",
    "ev = evaluate_file(f'{PANN_PATH}/{PANN_files[idxx]}', f'{PPRED_PATH}/{PPRED_files[idxx]}')\n",
    "\n",
    "\n",
    "tPANN = cv2.imread(f'{PANN_PATH}/{PANN_files[fileIdx]}')\n",
    "tPPRED = cv2.imread(f'{PPRED_PATH}/{PPRED_files[fileIdx]}')\n",
    "\n",
    "plt.figure(figsize=(15, 10))\n",
    "plt.subplot(1, 3, 1)\n",
    "plt.imshow(tPANN)\n",
    "plt.title(f'Annotated Mask\\n/{PANN_files[fileIdx]}')\n",
    "\n",
    "plt.subplot(1, 3, 2)\n",
    "plt.imshow(tPPRED)\n",
    "plt.title(f'Predicted Mask\\n/{PPRED_files[fileIdx]}')\n",
    "\n",
    "print_metrics(ev)\n"
   ]
  },
  {
   "cell_type": "code",
   "execution_count": null,
   "metadata": {},
   "outputs": [],
   "source": [
    "masks = []\n",
    "for i in range(len(PPRED_files)-1):\n",
    "    masks.append((f'{PANN_PATH}/{PANN_files[i]}', f'{PPRED_PATH}/{PPRED_files[i]}'))\n",
    "evaluation = evaluate_files(masks)\n",
    "print('\\nALL MASKS\\n')\n",
    "print_metrics(evaluation)"
   ]
  },
  {
   "cell_type": "code",
   "execution_count": null,
   "metadata": {},
   "outputs": [],
   "source": [
    "bestf1 = 0\n",
    "bestmask = ()\n",
    "bestev = None\n",
    "for i in tqdm(range(len(PPRED_files)-1), desc='Process'):\n",
    "    try:\n",
    "        ev = evaluate_file(f'{PANN_PATH}/{PANN_files[i]}', f'{PPRED_PATH}/{PPRED_files[i]}')\n",
    "        if(ev.F1 > bestf1 and ev.F1 <0.7):\n",
    "            bestf1 = ev.F1\n",
    "            bestmask = (f'{PANN_PATH}/{PANN_files[i]}',f'{PPRED_PATH}/{PIMG_files[i]}')\n",
    "            bestev = ev\n",
    "    except:\n",
    "        print(f'Error in File {PIMG_files[i]}')\n",
    "\n",
    "print_metrics(bestev)\n",
    "\n",
    "tPANN = cv2.imread(bestmask[0])\n",
    "tPPRED = cv2.imread(bestmask[1])\n",
    "\n",
    "plt.figure(figsize=(20, 10))\n",
    "plt.subplot(1, 3, 1)\n",
    "plt.imshow(tPANN)\n",
    "plt.title(f'Annotated Mask\\n{bestmask[0]}')\n",
    "\n",
    "plt.subplot(1, 3, 2)\n",
    "plt.imshow(tPPRED)\n",
    "plt.title(f'Predicted Mask\\n{bestmask[1]}')\n"
   ]
  },
  {
   "cell_type": "markdown",
   "metadata": {},
   "source": [
    "## LoveDa R18"
   ]
  },
  {
   "cell_type": "code",
   "execution_count": 43,
   "metadata": {},
   "outputs": [
    {
     "name": "stderr",
     "output_type": "stream",
     "text": [
      "c:\\Users\\henha\\miniconda3\\envs\\openmmlab\\Lib\\site-packages\\mmseg\\models\\builder.py:36: UserWarning: ``build_loss`` would be deprecated soon, please use ``mmseg.registry.MODELS.build()`` \n",
      "  warnings.warn('``build_loss`` would be deprecated soon, please use '\n",
      "c:\\Users\\henha\\miniconda3\\envs\\openmmlab\\Lib\\site-packages\\mmseg\\models\\losses\\cross_entropy_loss.py:250: UserWarning: Default ``avg_non_ignore`` is False, if you would like to ignore the certain label and average loss over non-ignore labels, which is the same with PyTorch official cross_entropy, set ``avg_non_ignore=True``.\n",
      "  warnings.warn(\n"
     ]
    },
    {
     "name": "stdout",
     "output_type": "stream",
     "text": [
      "Loads checkpoint by local backend from path: checkpoints\\DLV3P\\deeplabv3plus_r18-d8_512x512_80k_loveda_20211104_132800-ce0fa0ca.pth\n"
     ]
    }
   ],
   "source": [
    "loveDa_r18_config = r\"mmsegmentation\\configs\\deeplabv3plus\\deeplabv3plus_r18-d8_4xb4-80k_loveda-512x512.py\"\n",
    "loveDa_r18_checkpoint = r\"checkpoints\\DLV3P\\deeplabv3plus_r18-d8_512x512_80k_loveda_20211104_132800-ce0fa0ca.pth\"\n",
    "\n",
    "loveDa_r18_model = init_model(loveDa_r18_config, loveDa_r18_checkpoint,cfg_options=dict(classes=('forest'),palette=[[0, 255, 0]]))\n",
    "\n",
    "NET = 'deepLabV3Plus'\n",
    "DATASET = 'LoveDa_R18'\n",
    "PPRED_PATH = f'./data/Munich_bin/pred_dir/{NET}/{DATASET}'"
   ]
  },
  {
   "cell_type": "code",
   "execution_count": 45,
   "metadata": {},
   "outputs": [
    {
     "name": "stderr",
     "output_type": "stream",
     "text": [
      "Predict:   0%|          | 0/80 [00:00<?, ?it/s]"
     ]
    },
    {
     "name": "stderr",
     "output_type": "stream",
     "text": [
      "c:\\Users\\henha\\miniconda3\\envs\\openmmlab\\Lib\\site-packages\\mmengine\\visualization\\visualizer.py:196: UserWarning: Failed to add <class 'mmengine.visualization.vis_backend.LocalVisBackend'>, please provide the `save_dir` argument.\n",
      "  warnings.warn(f'Failed to add {vis_backend.__class__}, '\n",
      "Predict: 100%|██████████| 80/80 [01:40<00:00,  1.25s/it]\n"
     ]
    },
    {
     "name": "stdout",
     "output_type": "stream",
     "text": [
      "Results: \n",
      "   accuracy: 78.766 %\n",
      "         f1:  0.529\n",
      "     recall:  0.361 (or sensitivity)\n",
      "  precision:  0.988\n",
      "specificity:  0.998\n",
      "        iou:  0.359 (or Jaccard index)\n",
      "\n",
      "TPR: 0.361 | FNR: 0.639\n",
      "TNR: 0.998 | FPR: 0.002\n",
      "PPV: 0.988 | FDR: 0.012\n",
      "NPV: 0.760 | FOR: 0.240\n",
      "Elapsed Time: 100.45s = 1.67m\n"
     ]
    }
   ],
   "source": [
    "s = time.time()\n",
    "\n",
    "if not os.path.exists(PPRED_PATH):\n",
    "        os.makedirs(PPRED_PATH)\n",
    "\n",
    "eval_func(PIMG_PATH=PIMG_PATH, PANN_PATH=PANN_PATH, PPRED_PATH=PPRED_PATH, model=loveDa_r18_model)\n",
    "deep_loveda_R18 = get_eval(PANN_PATH=PANN_PATH, PANN_files=PANN_files, PPRED_PATH=PPRED_PATH, PPRED_files=PPRED_files)\n",
    "print_metrics(deep_loveda_R18)\n",
    "\n",
    "e = time.time()\n",
    "t = e-s\n",
    "print(f'Elapsed Time: {t:.2f}s = {t/60:.2f}m')\n"
   ]
  },
  {
   "cell_type": "code",
   "execution_count": null,
   "metadata": {},
   "outputs": [],
   "source": [
    "get_best(PIMG_files, PANN_PATH, PANN_files, PPRED_PATH, PPRED_files, True, 0.91)"
   ]
  },
  {
   "cell_type": "markdown",
   "metadata": {},
   "source": [
    "## LoveDa R50"
   ]
  },
  {
   "cell_type": "code",
   "execution_count": 38,
   "metadata": {},
   "outputs": [
    {
     "name": "stdout",
     "output_type": "stream",
     "text": [
      "Loads checkpoint by local backend from path: checkpoints\\DLV3P\\deeplabv3plus_r50-d8_512x512_80k_loveda_20211105_080442-f0720392.pth\n"
     ]
    }
   ],
   "source": [
    "loveDa_r50_config = r\"mmsegmentation\\configs\\deeplabv3plus\\deeplabv3plus_r50-d8_4xb4-80k_loveda-512x512.py\"\n",
    "loveDa_r50_checkpoint = r\"checkpoints\\DLV3P\\deeplabv3plus_r50-d8_512x512_80k_loveda_20211105_080442-f0720392.pth\"\n",
    "\n",
    "loveDa_r50_model = init_model(loveDa_r50_config, loveDa_r50_checkpoint,cfg_options=dict(classes=('forest'),palette=[[0, 255, 0]]))\n",
    "\n",
    "NET = 'deepLabV3Plus'\n",
    "DATASET = 'LoveDa_R50'\n",
    "PPRED_PATH = f'./data/Munich_bin/pred_dir/{NET}/{DATASET}'"
   ]
  },
  {
   "cell_type": "code",
   "execution_count": 39,
   "metadata": {},
   "outputs": [
    {
     "name": "stdout",
     "output_type": "stream",
     "text": [
      "Results: \n",
      "   accuracy: 77.843 %\n",
      "         f1:  0.496\n",
      "     recall:  0.331 (or sensitivity)\n",
      "  precision:  0.993\n",
      "specificity:  0.999\n",
      "        iou:  0.330 (or Jaccard index)\n",
      "\n",
      "TPR: 0.331 | FNR: 0.669\n",
      "TNR: 0.999 | FPR: 0.001\n",
      "PPV: 0.993 | FDR: 0.007\n",
      "NPV: 0.752 | FOR: 0.248\n"
     ]
    }
   ],
   "source": [
    "if not os.path.exists(PPRED_PATH):\n",
    "        os.makedirs(PPRED_PATH)\n",
    "\n",
    "eval_func(PIMG_PATH=PIMG_PATH, PANN_PATH=PANN_PATH, PPRED_PATH=PPRED_PATH, model=loveDa_r50_model)\n",
    "LoveDa_R50_ev = get_eval(PANN_PATH=PANN_PATH, PANN_files=PANN_files, PPRED_PATH=PPRED_PATH, PPRED_files=PPRED_files)\n",
    "print_metrics(LoveDa_R50_ev)"
   ]
  },
  {
   "cell_type": "markdown",
   "metadata": {},
   "source": [
    "## LoveDa R101"
   ]
  },
  {
   "cell_type": "code",
   "execution_count": 36,
   "metadata": {},
   "outputs": [
    {
     "name": "stdout",
     "output_type": "stream",
     "text": [
      "Loads checkpoint by local backend from path: checkpoints\\DLV3P\\deeplabv3plus_r101-d8_512x512_80k_loveda_20211105_110759-4c1f297e.pth\n"
     ]
    }
   ],
   "source": [
    "loveDa_r101_config = r\"mmsegmentation\\configs\\deeplabv3plus\\deeplabv3plus_r101-d8_4xb4-80k_loveda-512x512.py\"\n",
    "loveDa_r101_checkpoint = r\"checkpoints\\DLV3P\\deeplabv3plus_r101-d8_512x512_80k_loveda_20211105_110759-4c1f297e.pth\"\n",
    "\n",
    "loveDa_r101_model = init_model(loveDa_r101_config, loveDa_r101_checkpoint,cfg_options=dict(classes=('forest'),palette=[[0, 255, 0]]))\n",
    "\n",
    "NET = 'deepLabV3Plus'\n",
    "DATASET = 'LoveDa_R101'\n",
    "PPRED_PATH = f'./data/Munich_bin/pred_dir/{NET}/{DATASET}'"
   ]
  },
  {
   "cell_type": "code",
   "execution_count": 37,
   "metadata": {},
   "outputs": [
    {
     "name": "stdout",
     "output_type": "stream",
     "text": [
      "Results: \n",
      "   accuracy: 78.501 %\n",
      "         f1:  0.520\n",
      "     recall:  0.353 (or sensitivity)\n",
      "  precision:  0.986\n",
      "specificity:  0.997\n",
      "        iou:  0.352 (or Jaccard index)\n",
      "\n",
      "TPR: 0.353 | FNR: 0.647\n",
      "TNR: 0.997 | FPR: 0.003\n",
      "PPV: 0.986 | FDR: 0.014\n",
      "NPV: 0.758 | FOR: 0.242\n"
     ]
    }
   ],
   "source": [
    "if not os.path.exists(PPRED_PATH):\n",
    "        os.makedirs(PPRED_PATH)\n",
    "\n",
    "eval_func(PIMG_PATH=PIMG_PATH, PANN_PATH=PANN_PATH, PPRED_PATH=PPRED_PATH, model=loveDa_r101_model)\n",
    "LoveDa_R101_ev = get_eval(PANN_PATH=PANN_PATH, PANN_files=PANN_files, PPRED_PATH=PPRED_PATH, PPRED_files=PPRED_files)\n",
    "print_metrics(LoveDa_R101_ev)"
   ]
  },
  {
   "cell_type": "markdown",
   "metadata": {},
   "source": [
    "## Potsdam R18"
   ]
  },
  {
   "cell_type": "code",
   "execution_count": 46,
   "metadata": {},
   "outputs": [
    {
     "name": "stderr",
     "output_type": "stream",
     "text": [
      "c:\\Users\\henha\\miniconda3\\envs\\openmmlab\\Lib\\site-packages\\mmseg\\models\\builder.py:36: UserWarning: ``build_loss`` would be deprecated soon, please use ``mmseg.registry.MODELS.build()`` \n",
      "  warnings.warn('``build_loss`` would be deprecated soon, please use '\n",
      "c:\\Users\\henha\\miniconda3\\envs\\openmmlab\\Lib\\site-packages\\mmseg\\models\\losses\\cross_entropy_loss.py:250: UserWarning: Default ``avg_non_ignore`` is False, if you would like to ignore the certain label and average loss over non-ignore labels, which is the same with PyTorch official cross_entropy, set ``avg_non_ignore=True``.\n",
      "  warnings.warn(\n"
     ]
    },
    {
     "name": "stdout",
     "output_type": "stream",
     "text": [
      "Loads checkpoint by local backend from path: checkpoints\\DLV3P\\deeplabv3plus_r18-d8_512x512_80k_potsdam_20211219_020601-75fd5bc3.pth\n"
     ]
    }
   ],
   "source": [
    "potsdam_r18_config = r\"mmsegmentation\\configs\\deeplabv3plus\\deeplabv3plus_r18-d8_4xb4-80k_potsdam-512x512.py\"\n",
    "potsdam_r18_checkpoint = r\"checkpoints\\DLV3P\\deeplabv3plus_r18-d8_512x512_80k_potsdam_20211219_020601-75fd5bc3.pth\"\n",
    "\n",
    "potsdam_r18_model = init_model(potsdam_r18_config, potsdam_r18_checkpoint,cfg_options=dict(classes=('forest'),palette=[[0, 255, 0]]))\n",
    "\n",
    "NET = 'deepLabV3Plus'\n",
    "DATASET = 'Potsdam_R18'\n",
    "PPRED_PATH = f'./data/Munich_bin/pred_dir/{NET}/{DATASET}'"
   ]
  },
  {
   "cell_type": "code",
   "execution_count": 47,
   "metadata": {},
   "outputs": [
    {
     "name": "stderr",
     "output_type": "stream",
     "text": [
      "Predict:   0%|          | 0/80 [00:00<?, ?it/s]"
     ]
    },
    {
     "name": "stderr",
     "output_type": "stream",
     "text": [
      "Predict: 100%|██████████| 80/80 [01:40<00:00,  1.25s/it]\n"
     ]
    },
    {
     "name": "stdout",
     "output_type": "stream",
     "text": [
      "Results: \n",
      "   accuracy: 47.084 %\n",
      "         f1:  0.299\n",
      "     recall:  0.342 (or sensitivity)\n",
      "  precision:  0.266\n",
      "specificity:  0.534\n",
      "        iou:  0.176 (or Jaccard index)\n",
      "\n",
      "TPR: 0.342 | FNR: 0.658\n",
      "TNR: 0.534 | FPR: 0.466\n",
      "PPV: 0.266 | FDR: 0.734\n",
      "NPV: 0.623 | FOR: 0.377\n",
      "Elapsed Time: 100.48s = 1.67m\n"
     ]
    }
   ],
   "source": [
    "s = time.time()\n",
    "\n",
    "if not os.path.exists(PPRED_PATH):\n",
    "        os.makedirs(PPRED_PATH)\n",
    "\n",
    "eval_func(PIMG_PATH=PIMG_PATH, PANN_PATH=PANN_PATH, PPRED_PATH=PPRED_PATH, model=potsdam_r18_model)\n",
    "Potsdam_R18_ev = get_eval(PANN_PATH=PANN_PATH, PANN_files=PANN_files, PPRED_PATH=PPRED_PATH, PPRED_files=PPRED_files)\n",
    "print_metrics(Potsdam_R18_ev)\n",
    "\n",
    "e = time.time()\n",
    "t = e-s\n",
    "print(f'Elapsed Time: {t:.2f}s = {t/60:.2f}m')"
   ]
  },
  {
   "cell_type": "markdown",
   "metadata": {},
   "source": [
    "## Vaihingen R18"
   ]
  },
  {
   "cell_type": "code",
   "execution_count": 48,
   "metadata": {},
   "outputs": [
    {
     "name": "stdout",
     "output_type": "stream",
     "text": [
      "Loads checkpoint by local backend from path: checkpoints\\DLV3P\\deeplabv3plus_r18-d8_4x4_512x512_80k_vaihingen_20211231_230805-7626a263.pth\n"
     ]
    }
   ],
   "source": [
    "vaihingen_r18_config = r\"mmsegmentation\\configs\\deeplabv3plus\\deeplabv3plus_r18-d8_4xb4-80k_vaihingen-512x512.py\"\n",
    "vaihingen_r18_checkpoint = r\"checkpoints\\DLV3P\\deeplabv3plus_r18-d8_4x4_512x512_80k_vaihingen_20211231_230805-7626a263.pth\"\n",
    "\n",
    "vaihingen_r18_model = init_model(vaihingen_r18_config, vaihingen_r18_checkpoint,cfg_options=dict(classes=('forest'),palette=[[0, 255, 0]]))\n",
    "\n",
    "NET = 'deepLabV3Plus'\n",
    "DATASET = 'Vaihingen_R18'\n",
    "PPRED_PATH = f'./data/Munich_bin/pred_dir/{NET}/{DATASET}'"
   ]
  },
  {
   "cell_type": "code",
   "execution_count": 49,
   "metadata": {},
   "outputs": [
    {
     "name": "stderr",
     "output_type": "stream",
     "text": [
      "Predict:   0%|          | 0/80 [00:00<?, ?it/s]"
     ]
    },
    {
     "name": "stderr",
     "output_type": "stream",
     "text": [
      "Predict: 100%|██████████| 80/80 [01:43<00:00,  1.29s/it]\n"
     ]
    },
    {
     "name": "stdout",
     "output_type": "stream",
     "text": [
      "Results: \n",
      "   accuracy: 27.224 %\n",
      "         f1:  0.376\n",
      "     recall:  0.664 (or sensitivity)\n",
      "  precision:  0.262\n",
      "specificity:  0.079\n",
      "        iou:  0.231 (or Jaccard index)\n",
      "\n",
      "TPR: 0.664 | FNR: 0.336\n",
      "TNR: 0.079 | FPR: 0.921\n",
      "PPV: 0.262 | FDR: 0.738\n",
      "NPV: 0.324 | FOR: 0.676\n",
      "Elapsed Time: 103.64s = 1.73m\n"
     ]
    }
   ],
   "source": [
    "s = time.time()\n",
    "\n",
    "if not os.path.exists(PPRED_PATH):\n",
    "        os.makedirs(PPRED_PATH)\n",
    "\n",
    "eval_func(PIMG_PATH=PIMG_PATH, PANN_PATH=PANN_PATH, PPRED_PATH=PPRED_PATH, model=vaihingen_r18_model)\n",
    "Vaihingen_R18_ev = get_eval(PANN_PATH=PANN_PATH, PANN_files=PANN_files, PPRED_PATH=PPRED_PATH, PPRED_files=PPRED_files)\n",
    "print_metrics(Vaihingen_R18_ev)\n",
    "\n",
    "e = time.time()\n",
    "t = e-s\n",
    "print(f'Elapsed Time: {t:.2f}s = {t/60:.2f}m')"
   ]
  },
  {
   "cell_type": "markdown",
   "metadata": {},
   "source": [
    "## Mapillary Vistas v1.2 R50"
   ]
  },
  {
   "cell_type": "code",
   "execution_count": 51,
   "metadata": {},
   "outputs": [
    {
     "name": "stdout",
     "output_type": "stream",
     "text": [
      "Loads checkpoint by local backend from path: checkpoints\\DLV3P\\deeplabv3plus_r50-d8_4xb2-300k_mapillay_v1_65-1280x1280_20230301_110504-655f8e43.pth\n"
     ]
    }
   ],
   "source": [
    "mapvis_r50_config = r\"mmsegmentation\\configs\\deeplabv3plus\\deeplabv3plus_r50-d8_4xb2-300k_mapillay_v1_65-1280x1280.py\"\n",
    "mapvis_r50_checkpoint = r\"checkpoints\\DLV3P\\deeplabv3plus_r50-d8_4xb2-300k_mapillay_v1_65-1280x1280_20230301_110504-655f8e43.pth\"\n",
    "\n",
    "mapvis_r50_model = init_model(mapvis_r50_config, mapvis_r50_checkpoint,cfg_options=dict(classes=('forest'),palette=[[0, 255, 0]]))\n",
    "\n",
    "NET = 'deepLabV3Plus'\n",
    "DATASET = 'MapVis_R50'\n",
    "PPRED_PATH = f'./data/Munich_bin/pred_dir/{NET}/{DATASET}'"
   ]
  },
  {
   "cell_type": "code",
   "execution_count": 52,
   "metadata": {},
   "outputs": [
    {
     "name": "stderr",
     "output_type": "stream",
     "text": [
      "Predict: 100%|██████████| 80/80 [02:58<00:00,  2.23s/it]\n"
     ]
    },
    {
     "name": "stdout",
     "output_type": "stream",
     "text": [
      "Results: \n",
      "   accuracy: 33.058 %\n",
      "         f1:  0.496\n",
      "     recall:  1.000 (or sensitivity)\n",
      "  precision:  0.330\n",
      "specificity:  0.001\n",
      "        iou:  0.330 (or Jaccard index)\n",
      "\n",
      "TPR: 1.000 | FNR: 0.000\n",
      "TNR: 0.001 | FPR: 0.999\n",
      "PPV: 0.330 | FDR: 0.670\n",
      "NPV: 0.999 | FOR: 0.001\n",
      "Elapsed Time: 178.43s = 2.97m\n"
     ]
    }
   ],
   "source": [
    "s = time.time()\n",
    "\n",
    "if not os.path.exists(PPRED_PATH):\n",
    "        os.makedirs(PPRED_PATH)\n",
    "\n",
    "eval_func(PIMG_PATH=PIMG_PATH, PANN_PATH=PANN_PATH, PPRED_PATH=PPRED_PATH, model=mapvis_r50_model)\n",
    "MapVis_R50_ev = get_eval(PANN_PATH=PANN_PATH, PANN_files=PANN_files, PPRED_PATH=PPRED_PATH, PPRED_files=PPRED_files)\n",
    "print_metrics(MapVis_R50_ev)\n",
    "\n",
    "e = time.time()\n",
    "t = e-s\n",
    "print(f'Elapsed Time: {t:.2f}s = {t/60:.2f}m')"
   ]
  },
  {
   "cell_type": "markdown",
   "metadata": {},
   "source": [
    "# PSPNet"
   ]
  },
  {
   "cell_type": "markdown",
   "metadata": {},
   "source": [
    "## LoveDa R18"
   ]
  },
  {
   "cell_type": "code",
   "execution_count": 53,
   "metadata": {},
   "outputs": [
    {
     "name": "stdout",
     "output_type": "stream",
     "text": [
      "Loads checkpoint by local backend from path: checkpoints\\PSPNET\\pspnet_r18-d8_512x512_80k_loveda_20211105_052100-b97697f1.pth\n"
     ]
    }
   ],
   "source": [
    "psp_loveDa_r18_config = r\"mmsegmentation\\configs\\pspnet\\pspnet_r18-d8_4xb4-80k_loveda-512x512.py\"\n",
    "psp_loveDa_r18_checkpoint = r\"checkpoints\\PSPNET\\pspnet_r18-d8_512x512_80k_loveda_20211105_052100-b97697f1.pth\"\n",
    "\n",
    "psp_loveDa_r18_model = init_model(psp_loveDa_r18_config, psp_loveDa_r18_checkpoint,cfg_options=dict(classes=('forest'),palette=[[0, 255, 0]]))\n",
    "\n",
    "NET = 'pspnet'\n",
    "DATASET = 'LoveDa_R18'\n",
    "PPRED_PATH = f'./data/Munich_bin/pred_dir/{NET}/{DATASET}'"
   ]
  },
  {
   "cell_type": "code",
   "execution_count": 54,
   "metadata": {},
   "outputs": [
    {
     "name": "stderr",
     "output_type": "stream",
     "text": [
      "Predict:   0%|          | 0/80 [00:00<?, ?it/s]"
     ]
    },
    {
     "name": "stderr",
     "output_type": "stream",
     "text": [
      "Predict: 100%|██████████| 80/80 [01:49<00:00,  1.37s/it]\n"
     ]
    },
    {
     "name": "stdout",
     "output_type": "stream",
     "text": [
      "Results: \n",
      "   accuracy: 79.198 %\n",
      "         f1:  0.544\n",
      "     recall:  0.376 (or sensitivity)\n",
      "  precision:  0.984\n",
      "specificity:  0.997\n",
      "        iou:  0.373 (or Jaccard index)\n",
      "\n",
      "TPR: 0.376 | FNR: 0.624\n",
      "TNR: 0.997 | FPR: 0.003\n",
      "PPV: 0.984 | FDR: 0.016\n",
      "NPV: 0.764 | FOR: 0.236\n",
      "Elapsed Time: 110.37s = 1.84m\n"
     ]
    }
   ],
   "source": [
    "s = time.time()\n",
    "\n",
    "if not os.path.exists(PPRED_PATH):\n",
    "        os.makedirs(PPRED_PATH)\n",
    "\n",
    "eval_func(PIMG_PATH=PIMG_PATH, PANN_PATH=PANN_PATH, PPRED_PATH=PPRED_PATH, model=psp_loveDa_r18_model)\n",
    "psp_loveda_R18_ev = get_eval(PANN_PATH=PANN_PATH, PANN_files=PANN_files, PPRED_PATH=PPRED_PATH, PPRED_files=PPRED_files)\n",
    "print_metrics(psp_loveda_R18_ev)\n",
    "\n",
    "e = time.time()\n",
    "t = e-s\n",
    "print(f'Elapsed Time: {t:.2f}s = {t/60:.2f}m')"
   ]
  },
  {
   "cell_type": "markdown",
   "metadata": {},
   "source": [
    "# HRNET"
   ]
  },
  {
   "cell_type": "markdown",
   "metadata": {},
   "source": [
    "## LoveDa R18"
   ]
  },
  {
   "cell_type": "code",
   "execution_count": 55,
   "metadata": {},
   "outputs": [
    {
     "name": "stdout",
     "output_type": "stream",
     "text": [
      "Loads checkpoint by local backend from path: checkpoints\\HRNET\\fcn_hr18_512x512_80k_loveda_20211210_203952-93d9c3b3.pth\n"
     ]
    }
   ],
   "source": [
    "hr_loveDa_r18_config = r\"mmsegmentation\\configs\\hrnet\\fcn_hr18_4xb4-80k_loveda-512x512.py\"\n",
    "hr_loveDa_r18_checkpoint = r\"checkpoints\\HRNET\\fcn_hr18_512x512_80k_loveda_20211210_203952-93d9c3b3.pth\"\n",
    "\n",
    "hr_loveDa_r18_model = init_model(hr_loveDa_r18_config, hr_loveDa_r18_checkpoint,cfg_options=dict(classes=('forest'),palette=[[0, 255, 0]]))\n",
    "\n",
    "NET = 'hrnet'\n",
    "DATASET = 'LoveDa_R18'\n",
    "PPRED_PATH = f'./data/Munich_bin/pred_dir/{NET}/{DATASET}'"
   ]
  },
  {
   "cell_type": "code",
   "execution_count": 56,
   "metadata": {},
   "outputs": [
    {
     "name": "stderr",
     "output_type": "stream",
     "text": [
      "Predict:   0%|          | 0/80 [00:00<?, ?it/s]"
     ]
    },
    {
     "name": "stderr",
     "output_type": "stream",
     "text": [
      "Predict: 100%|██████████| 80/80 [01:28<00:00,  1.11s/it]\n"
     ]
    },
    {
     "name": "stdout",
     "output_type": "stream",
     "text": [
      "Results: \n",
      "   accuracy: 78.711 %\n",
      "         f1:  0.527\n",
      "     recall:  0.360 (or sensitivity)\n",
      "  precision:  0.985\n",
      "specificity:  0.997\n",
      "        iou:  0.358 (or Jaccard index)\n",
      "\n",
      "TPR: 0.360 | FNR: 0.640\n",
      "TNR: 0.997 | FPR: 0.003\n",
      "PPV: 0.985 | FDR: 0.015\n",
      "NPV: 0.760 | FOR: 0.240\n",
      "Elapsed Time: 88.94s = 1.48m\n"
     ]
    }
   ],
   "source": [
    "s = time.time()\n",
    "\n",
    "if not os.path.exists(PPRED_PATH):\n",
    "        os.makedirs(PPRED_PATH)\n",
    "\n",
    "eval_func(PIMG_PATH=PIMG_PATH, PANN_PATH=PANN_PATH, PPRED_PATH=PPRED_PATH, model=hr_loveDa_r18_model)\n",
    "hr_loveda_R18_ev = get_eval(PANN_PATH=PANN_PATH, PANN_files=PANN_files, PPRED_PATH=PPRED_PATH, PPRED_files=PPRED_files)\n",
    "print_metrics(hr_loveda_R18_ev)\n",
    "\n",
    "e = time.time()\n",
    "t = e-s\n",
    "print(f'Elapsed Time: {t:.2f}s = {t/60:.2f}m')"
   ]
  }
 ],
 "metadata": {
  "kernelspec": {
   "display_name": "openmmlab",
   "language": "python",
   "name": "python3"
  },
  "language_info": {
   "codemirror_mode": {
    "name": "ipython",
    "version": 3
   },
   "file_extension": ".py",
   "mimetype": "text/x-python",
   "name": "python",
   "nbconvert_exporter": "python",
   "pygments_lexer": "ipython3",
   "version": "3.11.7"
  }
 },
 "nbformat": 4,
 "nbformat_minor": 2
}
