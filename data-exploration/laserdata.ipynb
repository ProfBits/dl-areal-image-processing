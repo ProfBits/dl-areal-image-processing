{
 "cells": [
  {
   "cell_type": "markdown",
   "metadata": {},
   "source": [
    "# Visualize Laserdata"
   ]
  },
  {
   "cell_type": "code",
   "execution_count": 1,
   "metadata": {},
   "outputs": [],
   "source": [
    "import laspy\n",
    "import pyvista as pv\n",
    "import numpy as np"
   ]
  },
  {
   "cell_type": "code",
   "execution_count": 2,
   "metadata": {},
   "outputs": [
    {
     "name": "stdout",
     "output_type": "stream",
     "text": [
      "X\n",
      "Y\n",
      "Z\n",
      "intensity\n",
      "return_number\n",
      "number_of_returns\n",
      "scan_direction_flag\n",
      "edge_of_flight_line\n",
      "classification\n",
      "synthetic\n",
      "key_point\n",
      "withheld\n",
      "scan_angle_rank\n",
      "user_data\n",
      "point_source_id\n",
      "gps_time\n"
     ]
    }
   ],
   "source": [
    "# Load LAS files\n",
    "file_id = 2\n",
    "filenames = [\"692_5335.laz\", # Lehel\n",
    "             \"691_5334.laz\", # Old town\n",
    "             \"690_5335.laz\"  # Train station\n",
    "             ]\n",
    "\n",
    "las = laspy.read(\"../data/\" + filenames[file_id])\n",
    "\n",
    "\n",
    "# Find out what the point format looks like.\n",
    "for dimension in las.point_format.dimensions:\n",
    "    print(dimension.name)"
   ]
  },
  {
   "cell_type": "code",
   "execution_count": 4,
   "metadata": {},
   "outputs": [
    {
     "ename": "FileNotFoundError",
     "evalue": "[Errno 2] No such file or directory: '/home/jonas/informatik/Semester 2/Deep Learning/dl-areal-image-processing/data-exploration/screenshots/690_5335.laz.png'",
     "output_type": "error",
     "traceback": [
      "\u001b[0;31m---------------------------------------------------------------------------\u001b[0m",
      "\u001b[0;31mFileNotFoundError\u001b[0m                         Traceback (most recent call last)",
      "\u001b[1;32m/home/jonas/informatik/Semester 2/Deep Learning/dl-areal-image-processing/data-exploration/laserdata.ipynb Cell 4\u001b[0m line \u001b[0;36m9\n\u001b[1;32m      <a href='vscode-notebook-cell:/home/jonas/informatik/Semester%202/Deep%20Learning/dl-areal-image-processing/data-exploration/laserdata.ipynb#W3sZmlsZQ%3D%3D?line=6'>7</a>\u001b[0m pl\u001b[39m.\u001b[39madd_points(cloud, scalars\u001b[39m=\u001b[39m\u001b[39m'\u001b[39m\u001b[39mnumber_of_returns\u001b[39m\u001b[39m'\u001b[39m, cmap\u001b[39m=\u001b[39m\u001b[39m'\u001b[39m\u001b[39mviridis\u001b[39m\u001b[39m'\u001b[39m, point_size\u001b[39m=\u001b[39m\u001b[39m2.0\u001b[39m)\n\u001b[1;32m      <a href='vscode-notebook-cell:/home/jonas/informatik/Semester%202/Deep%20Learning/dl-areal-image-processing/data-exploration/laserdata.ipynb#W3sZmlsZQ%3D%3D?line=7'>8</a>\u001b[0m pl\u001b[39m.\u001b[39mcamera_position \u001b[39m=\u001b[39m \u001b[39m'\u001b[39m\u001b[39mxy\u001b[39m\u001b[39m'\u001b[39m\n\u001b[0;32m----> <a href='vscode-notebook-cell:/home/jonas/informatik/Semester%202/Deep%20Learning/dl-areal-image-processing/data-exploration/laserdata.ipynb#W3sZmlsZQ%3D%3D?line=8'>9</a>\u001b[0m pl\u001b[39m.\u001b[39mscreenshot(\u001b[39mf\u001b[39m\u001b[39m'\u001b[39m\u001b[39mscreenshots/\u001b[39m\u001b[39m{\u001b[39;00mfilenames[file_id]\u001b[39m}\u001b[39;00m\u001b[39m.png\u001b[39m\u001b[39m'\u001b[39m)\n\u001b[1;32m     <a href='vscode-notebook-cell:/home/jonas/informatik/Semester%202/Deep%20Learning/dl-areal-image-processing/data-exploration/laserdata.ipynb#W3sZmlsZQ%3D%3D?line=9'>10</a>\u001b[0m pl\u001b[39m.\u001b[39mshow(jupyter_backend\u001b[39m=\u001b[39m\u001b[39m'\u001b[39m\u001b[39mstatic\u001b[39m\u001b[39m'\u001b[39m)\n",
      "File \u001b[0;32m~/mambaforge/envs/deep-learning/lib/python3.11/site-packages/pyvista/plotting/plotter.py:5802\u001b[0m, in \u001b[0;36mBasePlotter.screenshot\u001b[0;34m(self, filename, transparent_background, return_img, window_size, scale)\u001b[0m\n\u001b[1;32m   5800\u001b[0m \u001b[39mwith\u001b[39;00m \u001b[39mself\u001b[39m\u001b[39m.\u001b[39mimage_scale_context(scale):\n\u001b[1;32m   5801\u001b[0m     \u001b[39mself\u001b[39m\u001b[39m.\u001b[39m_make_render_window_current()\n\u001b[0;32m-> 5802\u001b[0m     \u001b[39mreturn\u001b[39;00m \u001b[39mself\u001b[39m\u001b[39m.\u001b[39m_save_image(\u001b[39mself\u001b[39m\u001b[39m.\u001b[39mimage, filename, return_img)\n",
      "File \u001b[0;32m~/mambaforge/envs/deep-learning/lib/python3.11/site-packages/pyvista/plotting/plotter.py:5636\u001b[0m, in \u001b[0;36mBasePlotter._save_image\u001b[0;34m(image, filename, return_img)\u001b[0m\n\u001b[1;32m   5631\u001b[0m         \u001b[39mraise\u001b[39;00m \u001b[39mValueError\u001b[39;00m(\n\u001b[1;32m   5632\u001b[0m             \u001b[39mf\u001b[39m\u001b[39m'\u001b[39m\u001b[39mUnsupported extension \u001b[39m\u001b[39m{\u001b[39;00mfilename\u001b[39m.\u001b[39msuffix\u001b[39m}\u001b[39;00m\u001b[39m\\n\u001b[39;00m\u001b[39m'\u001b[39m\n\u001b[1;32m   5633\u001b[0m             \u001b[39mf\u001b[39m\u001b[39m'\u001b[39m\u001b[39mMust be one of the following: \u001b[39m\u001b[39m{\u001b[39;00mSUPPORTED_FORMATS\u001b[39m}\u001b[39;00m\u001b[39m'\u001b[39m\n\u001b[1;32m   5634\u001b[0m         )\n\u001b[1;32m   5635\u001b[0m     filename \u001b[39m=\u001b[39m os\u001b[39m.\u001b[39mpath\u001b[39m.\u001b[39mabspath(os\u001b[39m.\u001b[39mpath\u001b[39m.\u001b[39mexpanduser(\u001b[39mstr\u001b[39m(filename)))\n\u001b[0;32m-> 5636\u001b[0m     Image\u001b[39m.\u001b[39mfromarray(image)\u001b[39m.\u001b[39msave(filename)\n\u001b[1;32m   5637\u001b[0m \u001b[39melse\u001b[39;00m:\n\u001b[1;32m   5638\u001b[0m     Image\u001b[39m.\u001b[39mfromarray(image)\u001b[39m.\u001b[39msave(filename, \u001b[39mformat\u001b[39m\u001b[39m=\u001b[39m\u001b[39m\"\u001b[39m\u001b[39mPNG\u001b[39m\u001b[39m\"\u001b[39m)\n",
      "File \u001b[0;32m~/mambaforge/envs/deep-learning/lib/python3.11/site-packages/PIL/Image.py:2435\u001b[0m, in \u001b[0;36mImage.save\u001b[0;34m(self, fp, format, **params)\u001b[0m\n\u001b[1;32m   2433\u001b[0m         fp \u001b[39m=\u001b[39m builtins\u001b[39m.\u001b[39mopen(filename, \u001b[39m\"\u001b[39m\u001b[39mr+b\u001b[39m\u001b[39m\"\u001b[39m)\n\u001b[1;32m   2434\u001b[0m     \u001b[39melse\u001b[39;00m:\n\u001b[0;32m-> 2435\u001b[0m         fp \u001b[39m=\u001b[39m builtins\u001b[39m.\u001b[39mopen(filename, \u001b[39m\"\u001b[39m\u001b[39mw+b\u001b[39m\u001b[39m\"\u001b[39m)\n\u001b[1;32m   2437\u001b[0m \u001b[39mtry\u001b[39;00m:\n\u001b[1;32m   2438\u001b[0m     save_handler(\u001b[39mself\u001b[39m, fp, filename)\n",
      "\u001b[0;31mFileNotFoundError\u001b[0m: [Errno 2] No such file or directory: '/home/jonas/informatik/Semester 2/Deep Learning/dl-areal-image-processing/data-exploration/screenshots/690_5335.laz.png'"
     ]
    }
   ],
   "source": [
    "# Create a PyVista point cloud\n",
    "cloud = pv.PolyData(np.column_stack((las.x, las.y, las.z)))\n",
    "cloud['number_of_returns'] = las.number_of_returns\n",
    "\n",
    "# Plotting with PyVista, potentially using GPU rendering\n",
    "pl = pv.Plotter()\n",
    "pl.add_points(cloud, scalars='number_of_returns', cmap='viridis', point_size=2.0)\n",
    "pl.camera_position = 'xy'\n",
    "pl.screenshot(f'screenshots/{filenames[file_id]}.png')\n",
    "pl.show(jupyter_backend='static')"
   ]
  }
 ],
 "metadata": {
  "kernelspec": {
   "display_name": "deep-learning",
   "language": "python",
   "name": "python3"
  },
  "language_info": {
   "codemirror_mode": {
    "name": "ipython",
    "version": 3
   },
   "file_extension": ".py",
   "mimetype": "text/x-python",
   "name": "python",
   "nbconvert_exporter": "python",
   "pygments_lexer": "ipython3",
   "version": "3.11.6"
  }
 },
 "nbformat": 4,
 "nbformat_minor": 2
}
