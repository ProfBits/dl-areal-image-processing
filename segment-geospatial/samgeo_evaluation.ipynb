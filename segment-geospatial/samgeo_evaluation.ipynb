{
 "cells": [
  {
   "cell_type": "code",
   "execution_count": null,
   "metadata": {},
   "outputs": [],
   "source": [
    "import leafmap\n",
    "import os\n",
    "import cv2\n",
    "import numpy as np\n",
    "from matplotlib import pyplot as plt\n",
    "from samgeo import split_raster, merge_rasters\n",
    "from samgeo.text_sam import LangSAM\n",
    "from utils import plot_overlay, create_empty_mask, increase_contrast, increase_saturation"
   ]
  },
  {
   "cell_type": "code",
   "execution_count": null,
   "metadata": {},
   "outputs": [],
   "source": [
    "TRAIN_PATH = '../data/Potsdam/Train'\n",
    "PREDICTED_PATH = '../data/Potsdam/Predicted'\n",
    "\n",
    "train_ids = next(os.walk(TRAIN_PATH))[1]\n",
    "print (train_ids)"
   ]
  },
  {
   "cell_type": "code",
   "execution_count": null,
   "metadata": {},
   "outputs": [],
   "source": [
    "%env CUDA_VISIBLE_DEVICES=\"\" # to run on CPU"
   ]
  },
  {
   "cell_type": "code",
   "execution_count": null,
   "metadata": {},
   "outputs": [],
   "source": [
    "SAM_CHECKPOINT = \"../segment-anything/checkpoints/sam_vit_l_0b3195.pth\"\n",
    "MODEL_TYPE = \"vit_l\"\n",
    "# SAM_CHECKPOINT = \"../segment-anything/checkpoints/sam_vit_h_4b8939.pth\"\n",
    "# MODEL_TYPE = \"vit_h\"\n",
    "sam = LangSAM(model_type=MODEL_TYPE, checkpoint=SAM_CHECKPOINT)"
   ]
  },
  {
   "cell_type": "markdown",
   "metadata": {},
   "source": [
    "### Predict full image"
   ]
  },
  {
   "cell_type": "code",
   "execution_count": null,
   "metadata": {},
   "outputs": [],
   "source": [
    "box_threshold = 0.3\n",
    "text_threshold = 0.5\n",
    "text_prompt = \"tree . lawn . gras\"\n",
    "contrast_params = (1.5, -50)\n",
    "saturation_factor = 1.5\n",
    "\n",
    "SUBFOLDER = \"samgeo_v3\"\n",
    "\n",
    "RESULT_PATH = os.path.join(PREDICTED_PATH, SUBFOLDER)\n",
    "\n",
    "# create prediction directory\n",
    "if not os.path.exists(RESULT_PATH):\n",
    "    os.makedirs(RESULT_PATH)\n",
    "    \n",
    "# create info file with parameters\n",
    "with open(os.path.join(RESULT_PATH, \"info.txt\"), \"w\") as f:\n",
    "    f.write(\"box_threshold: {}\\n\".format(box_threshold))\n",
    "    f.write(\"text_threshold: {}\\n\".format(text_threshold))\n",
    "    f.write(\"text_prompt: {}\\n\".format(text_prompt))\n",
    "    f.write(\"model_type: {}\\n\".format(MODEL_TYPE))\n",
    "    f.write(\"contrast: alpha={}, beta={}\\n\".format(contrast_params[0], contrast_params[0]))\n",
    "    f.write(\"saturation factor: {}\\n\".format(saturation_factor))\n",
    "\n",
    "\n",
    "for id in train_ids[:20]:\n",
    "    # Construct paths for image and mask\n",
    "    file_prefix = 'top_potsdam_' + id.replace(\"t\",\"\")\n",
    "    # Construct paths for image and mask\n",
    "    img_path = os.path.join(TRAIN_PATH, id, file_prefix + '_RGB.tif')\n",
    "    \n",
    "    # store modified image in tmp folder\n",
    "    tmp_image = \"tmp/image.png\"\n",
    "    increase_contrast(img_path, output=tmp_image, alpha=contrast_params[0], beta=contrast_params[1])\n",
    "    increase_saturation(tmp_image, output=tmp_image, factor=saturation_factor)\n",
    "    img_path = tmp_image\n",
    "    \n",
    "    \n",
    "    text_prompt = \"tree . forest . gras\"\n",
    "    mask_path = os.path.join(RESULT_PATH, file_prefix + '_predicted.tif')\n",
    "    \n",
    "    res = sam.predict(img_path, text_prompt, \n",
    "                box_threshold=box_threshold, \n",
    "                text_threshold=text_threshold, \n",
    "                output=mask_path,\n",
    "                return_results=True\n",
    "                )\n",
    "    # create empty mask because samgeo does not create empty masks\n",
    "    if res is None:\n",
    "        \n",
    "        create_empty_mask(img_path, mask_path)\n",
    "        \n",
    "   \n",
    "print(f\"Done! Results saved to: {RESULT_PATH}\") "
   ]
  },
  {
   "cell_type": "markdown",
   "metadata": {},
   "source": [
    "### Prediction in batches"
   ]
  },
  {
   "cell_type": "code",
   "execution_count": null,
   "metadata": {},
   "outputs": [],
   "source": [
    "box_threshold = 0.25\n",
    "text_threshold = 0.5\n",
    "text_prompt = \"tree . lawn . gras\"\n",
    "tile_size = 256\n",
    "overlap = 64\n",
    "\n",
    "SUBFOLDER = \"batches_1\"\n",
    "\n",
    "RESULT_PATH = os.path.join(PREDICTED_PATH, SUBFOLDER)\n",
    "\n",
    "# create prediction directory\n",
    "if not os.path.exists(RESULT_PATH):\n",
    "    os.makedirs(RESULT_PATH)\n",
    "    \n",
    "# create info file with parameters\n",
    "with open(os.path.join(RESULT_PATH, \"info.txt\"), \"w\") as f:\n",
    "    f.write(\"box_threshold: {}\\n\".format(box_threshold))\n",
    "    f.write(\"text_threshold: {}\\n\".format(text_threshold))\n",
    "    f.write(\"text_prompt: {}\\n\".format(text_prompt))\n",
    "    f.write(\"model_type: {}\\n\".format(MODEL_TYPE))\n",
    "    f.write(\"tile_size: {}\\n\".format(tile_size))\n",
    "    f.write(\"overlap: {}\\n\".format(overlap))\n",
    "    \n",
    "# tmp folder for batch segmentation\n",
    "WORK_DIR = \"tmp\"\n",
    "tiles_dir = f\"{WORK_DIR}/tiles\"\n",
    "mask_dir = f\"{WORK_DIR}/masks\"\n",
    "\n",
    "\n",
    "for id in train_ids:\n",
    "    # Construct paths for image and mask\n",
    "    file_prefix = 'top_potsdam_' + id.replace(\"t\",\"\")\n",
    "    # Construct paths for image and mask\n",
    "    img_path = os.path.join(TRAIN_PATH, id, file_prefix + '_RGB.tif')\n",
    "    \n",
    "    # empty tmp/masks and tmp/tiles directories\n",
    "    os.system(f\"rm -rf {tiles_dir}/*\")\n",
    "    os.system(f\"rm -rf {mask_dir}/*\")\n",
    "    \n",
    "    # split images into tiles\n",
    "    split_raster(img_path, out_dir=tiles_dir, tile_size=tile_size, overlap=overlap)\n",
    "    \n",
    "    # sam.batch_predict written on my own to fix not creating empty masks\n",
    "    if isinstance(tiles_dir, str):\n",
    "        all_files = os.listdir(tiles_dir)\n",
    "        images = [os.path.join(tiles_dir, file) for file in all_files if file.endswith(\".tif\")]\n",
    "        images.sort()\n",
    "\n",
    "    for i, image in enumerate(images):\n",
    "        basename = os.path.splitext(os.path.basename(image))[0]\n",
    "\n",
    "        output = os.path.join(mask_dir, f\"{basename}_mask.tif\")\n",
    "        res = sam.predict(\n",
    "            image,\n",
    "            text_prompt,\n",
    "            box_threshold=box_threshold,\n",
    "            text_threshold=text_threshold,\n",
    "            output=output,\n",
    "            return_results=True\n",
    "        )\n",
    "        \n",
    "        # create empty mask because samgeo does not create empty masks\n",
    "        if res is None:\n",
    "            create_empty_mask(image, output)\n",
    "        \n",
    "\n",
    "    # merge tiles into one mask\n",
    "    mask_path = os.path.join(RESULT_PATH, file_prefix + '_predicted.tif')\n",
    "    merge_rasters(mask_dir, mask_path)\n",
    "    \n",
    "    \n",
    "\n",
    "print(f\"Done! Results saved to: {RESULT_PATH}\") "
   ]
  },
  {
   "cell_type": "markdown",
   "metadata": {},
   "source": [
    "## Evaluation"
   ]
  },
  {
   "cell_type": "code",
   "execution_count": null,
   "metadata": {},
   "outputs": [],
   "source": [
    "TRAIN_PATH = '../data/Potsdam/Train'\n",
    "PREDICTED_PATH = '../data/Potsdam/Predicted/samgeo_v3'\n",
    "\n",
    "train_ids = next(os.walk(TRAIN_PATH))[1]"
   ]
  },
  {
   "cell_type": "code",
   "execution_count": null,
   "metadata": {},
   "outputs": [],
   "source": [
    "# show one image\n",
    "id = train_ids[19]\n",
    "file_prefix = 'top_potsdam_' + id.replace(\"t\",\"\")\n",
    "img_path = os.path.join(TRAIN_PATH, id, file_prefix + '_RGB.tif')\n",
    "mask_path = os.path.join(TRAIN_PATH, id, file_prefix + '_label.tif')\n",
    "predicted_path = os.path.join(PREDICTED_PATH, file_prefix + '_predicted.tif')\n",
    "print(img_path, mask_path, predicted_path)\n",
    "\n",
    "# plot 3 images first actual then label and predicted\n",
    "img = cv2.imread(img_path)\n",
    "img = cv2.cvtColor(img, cv2.COLOR_BGR2RGB)\n",
    "mask = cv2.imread(mask_path)\n",
    "predicted = cv2.imread(predicted_path)\n",
    "\n",
    "plt.figure(figsize=(15, 10))\n",
    "plt.subplot(1, 3, 1)\n",
    "plt.imshow(img)\n",
    "plt.title('Geospatial Image')\n",
    "plt.subplot(1, 3, 2)\n",
    "plt.imshow(mask)\n",
    "plt.title('True Mask')\n",
    "plt.subplot(1, 3, 3)\n",
    "plt.imshow(predicted)\n",
    "plt.title('Predicted Mask')\n",
    "\n",
    "plt.tight_layout()\n",
    "plt.show()"
   ]
  },
  {
   "cell_type": "code",
   "execution_count": null,
   "metadata": {},
   "outputs": [],
   "source": [
    "import sys\n",
    "sys.path.append('../mask-evaluation')\n",
    "from main import print_metrics, evaluate_mask\n",
    "from collections import Counter"
   ]
  },
  {
   "cell_type": "code",
   "execution_count": null,
   "metadata": {},
   "outputs": [],
   "source": [
    "\n",
    "data = []\n",
    "\n",
    "for id in train_ids:\n",
    "    # Construct paths for image and mask\n",
    "    file_prefix = 'top_potsdam_' + id.replace(\"t\",\"\")\n",
    "    \n",
    "    text_prompt = \"tree, gras\"\n",
    "    mask_path = os.path.join(TRAIN_PATH, id, file_prefix + '_label.tif')\n",
    "    predicted_path = os.path.join(PREDICTED_PATH, file_prefix + '_predicted.tif')\n",
    "    data.append((predicted_path, mask_path))\n",
    "    \n",
    "\n",
    "def evaluate_mask_file(base_mask_path: str, predicted_mask_path: str) -> Counter:\n",
    "    expected = cv2.imread(base_mask_path)\n",
    "    actual = cv2.imread(predicted_mask_path)\n",
    "    return evaluate_mask(expected, actual)\n",
    "\n",
    "\n",
    "res = sum([evaluate_mask_file(base, actual) for base, actual in data], Counter())\n",
    "\n",
    "print_metrics(res)\n"
   ]
  }
 ],
 "metadata": {
  "kernelspec": {
   "display_name": "deep-learning",
   "language": "python",
   "name": "python3"
  },
  "language_info": {
   "codemirror_mode": {
    "name": "ipython",
    "version": 3
   },
   "file_extension": ".py",
   "mimetype": "text/x-python",
   "name": "python",
   "nbconvert_exporter": "python",
   "pygments_lexer": "ipython3",
   "version": "3.11.6"
  }
 },
 "nbformat": 4,
 "nbformat_minor": 2
}
